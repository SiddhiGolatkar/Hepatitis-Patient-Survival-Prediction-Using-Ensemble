{
 "cells": [
  {
   "cell_type": "markdown",
   "metadata": {},
   "source": [
    "# <center> Hepatitis Survival using Ensembles </center>\n",
    "\n",
    "___\n",
    "\n",
    "Ensemble refers to aggregation of predictions of different models based on weighted average or majority vote. Models can be different in their selection of sample set, feature set, hyperparameter and/or model family.\n",
    "It is used with tree models because decision trees are high variance models i.e. small change in data impacts the decision boundary considerably. Ensembles can be used with any classifier.\n",
    "\n",
    "<img src=\"image/EnsembleImage.jpeg\" alt=\"https://becominghuman.ai/ensemble-learning-bagging-and-boosting-d20f38be9b1e\" width=\"500\" height=\"400\">\n",
    "\n",
    "\n",
    "Ensembles can be in form of Bagging or Boosting.\n",
    "\n",
    "<img src=\"image/bb3.png\" alt=\"https://www.kdnuggets.com/\" width=\"700\" height=\"700\">\n",
    "\n",
    "___\n",
    "\n",
    "## Hepatitis Data\n",
    "\n",
    "We will use [Hepatitis Dataset](https://archive.ics.uci.edu/ml/datasets/hepatitis). The data set is obtained from UCI machine learning repository. There are 155 observations and 19 features/ attributes where 13 attributes are binary while 6 attributes are discrete valued. The observations are catogarized in two classes classes die and live. \n",
    "\n",
    "| Feature | Description |\n",
    "| --- | --- |\n",
    "| target | DIE (1) , LIVE (2) |\n",
    "| AGE | 10, 20, 30, 40, 50, 60, 70, 80 |\n",
    "| SEX | male, female |\n",
    "| STEROID | no, yes |\n",
    "| ANTIVIRALS | no, yes |\n",
    "| FATIGUE | no, yes |\n",
    "| MALAISE | no, yes |\n",
    "| ANOREXIA | no, yes |\n",
    "| LIVER BIG | no, yes |\n",
    "| LIVER FIRM | no, yes |\n",
    "| SPLEEN PALPABLE | no, yes |\n",
    "| SPIDERS | no, yes |\n",
    "| ASCITES | no, yes |\n",
    "| VARICES | no, yes |\n",
    "| BILIRUBIN | 0.39, 0.80, 1.20, 2.00, 3.00, 4.00 |\n",
    "| ALK PHOSPHATE | 33, 80, 120, 160, 200, 250 |\n",
    "| SGOT | 13, 100, 200, 300, 400, 500, |\n",
    "| ALBUMIN | 2.1, 3.0, 3.8, 4.5, 5.0, 6.0 |\n",
    "| PROTIME | 10, 20, 30, 40, 50, 60, 70, 80, 90 |\n",
    "| HISTOLOGY | no, yes |\n",
    "\n",
    "**The goal is to classify whether the hepatitis patient will survive or not.**\n",
    "___"
   ]
  },
  {
   "cell_type": "markdown",
   "metadata": {},
   "source": [
    "## Load the libraries"
   ]
  },
  {
   "cell_type": "code",
   "execution_count": 1,
   "metadata": {
    "ExecuteTime": {
     "end_time": "2019-11-02T03:55:45.393962Z",
     "start_time": "2019-11-02T03:55:45.390221Z"
    }
   },
   "outputs": [],
   "source": [
    "import pandas as pd\n",
    "\n",
    "# skip warnings\n",
    "import warnings\n",
    "warnings.filterwarnings('ignore')\n",
    "warnings.filterwarnings(action = 'ignore', category = DeprecationWarning)\n",
    "warnings.filterwarnings(action = 'ignore', category = FutureWarning)"
   ]
  },
  {
   "cell_type": "markdown",
   "metadata": {},
   "source": [
    "## Load Data"
   ]
  },
  {
   "cell_type": "code",
   "execution_count": 3,
   "metadata": {
    "ExecuteTime": {
     "end_time": "2019-11-02T04:05:10.317486Z",
     "start_time": "2019-11-02T04:05:10.302096Z"
    }
   },
   "outputs": [
    {
     "data": {
      "text/plain": [
       "(155, 20)"
      ]
     },
     "execution_count": 3,
     "metadata": {},
     "output_type": "execute_result"
    }
   ],
   "source": [
    "colnames = ['target', 'age', 'sex', 'steroid', 'antivirals', 'fatigue', 'malaise', 'anorexia', 'liver big', \n",
    "            'liver firm', 'spleen palpable', 'spiders', 'ascites', 'varices', 'bilirubin', 'alk phosphate', \n",
    "            'sgot', 'albumin', 'protime', 'histology']\n",
    "\n",
    "hepatitis = pd.read_csv(\"hepatitis.data\", names = colnames)\n",
    "\n",
    "hepatitis.shape"
   ]
  },
  {
   "cell_type": "markdown",
   "metadata": {},
   "source": [
    "There are a total of 155 customers in the data set and 20 variables. "
   ]
  },
  {
   "cell_type": "markdown",
   "metadata": {},
   "source": [
    "## Exploratory Data Analysis\n",
    "\n",
    "Let us take a look at a portion of the data.\n",
    "\n",
    "We will create a function to set all needed [Options in Python](https://pandas.pydata.org/pandas-docs/stable/user_guide/options.html)"
   ]
  },
  {
   "cell_type": "code",
   "execution_count": 4,
   "metadata": {
    "ExecuteTime": {
     "end_time": "2019-11-02T04:05:11.292795Z",
     "start_time": "2019-11-02T04:05:11.287979Z"
    }
   },
   "outputs": [],
   "source": [
    "def set_pandas_display_options() :\n",
    "\n",
    "    pd.options.display.max_columns = 1000\n",
    "    pd.options.display.max_rows = 1000\n",
    "    pd.options.display.max_colwidth = 199\n",
    "    pd.options.display.precision = 3\n",
    "\n",
    "    \n",
    "    \n",
    "set_pandas_display_options()"
   ]
  },
  {
   "cell_type": "code",
   "execution_count": 5,
   "metadata": {
    "ExecuteTime": {
     "end_time": "2019-11-02T04:05:11.502503Z",
     "start_time": "2019-11-02T04:05:11.473967Z"
    }
   },
   "outputs": [
    {
     "data": {
      "text/html": [
       "<div>\n",
       "<style scoped>\n",
       "    .dataframe tbody tr th:only-of-type {\n",
       "        vertical-align: middle;\n",
       "    }\n",
       "\n",
       "    .dataframe tbody tr th {\n",
       "        vertical-align: top;\n",
       "    }\n",
       "\n",
       "    .dataframe thead th {\n",
       "        text-align: right;\n",
       "    }\n",
       "</style>\n",
       "<table border=\"1\" class=\"dataframe\">\n",
       "  <thead>\n",
       "    <tr style=\"text-align: right;\">\n",
       "      <th></th>\n",
       "      <th>target</th>\n",
       "      <th>age</th>\n",
       "      <th>sex</th>\n",
       "      <th>steroid</th>\n",
       "      <th>antivirals</th>\n",
       "      <th>fatigue</th>\n",
       "      <th>malaise</th>\n",
       "      <th>anorexia</th>\n",
       "      <th>liver big</th>\n",
       "      <th>liver firm</th>\n",
       "      <th>spleen palpable</th>\n",
       "      <th>spiders</th>\n",
       "      <th>ascites</th>\n",
       "      <th>varices</th>\n",
       "      <th>bilirubin</th>\n",
       "      <th>alk phosphate</th>\n",
       "      <th>sgot</th>\n",
       "      <th>albumin</th>\n",
       "      <th>protime</th>\n",
       "      <th>histology</th>\n",
       "    </tr>\n",
       "  </thead>\n",
       "  <tbody>\n",
       "    <tr>\n",
       "      <th>0</th>\n",
       "      <td>2</td>\n",
       "      <td>30</td>\n",
       "      <td>2</td>\n",
       "      <td>1</td>\n",
       "      <td>2</td>\n",
       "      <td>2</td>\n",
       "      <td>2</td>\n",
       "      <td>2</td>\n",
       "      <td>1</td>\n",
       "      <td>2</td>\n",
       "      <td>2</td>\n",
       "      <td>2</td>\n",
       "      <td>2</td>\n",
       "      <td>2</td>\n",
       "      <td>1.00</td>\n",
       "      <td>85</td>\n",
       "      <td>18</td>\n",
       "      <td>4.0</td>\n",
       "      <td>?</td>\n",
       "      <td>1</td>\n",
       "    </tr>\n",
       "    <tr>\n",
       "      <th>1</th>\n",
       "      <td>2</td>\n",
       "      <td>50</td>\n",
       "      <td>1</td>\n",
       "      <td>1</td>\n",
       "      <td>2</td>\n",
       "      <td>1</td>\n",
       "      <td>2</td>\n",
       "      <td>2</td>\n",
       "      <td>1</td>\n",
       "      <td>2</td>\n",
       "      <td>2</td>\n",
       "      <td>2</td>\n",
       "      <td>2</td>\n",
       "      <td>2</td>\n",
       "      <td>0.90</td>\n",
       "      <td>135</td>\n",
       "      <td>42</td>\n",
       "      <td>3.5</td>\n",
       "      <td>?</td>\n",
       "      <td>1</td>\n",
       "    </tr>\n",
       "    <tr>\n",
       "      <th>2</th>\n",
       "      <td>2</td>\n",
       "      <td>78</td>\n",
       "      <td>1</td>\n",
       "      <td>2</td>\n",
       "      <td>2</td>\n",
       "      <td>1</td>\n",
       "      <td>2</td>\n",
       "      <td>2</td>\n",
       "      <td>2</td>\n",
       "      <td>2</td>\n",
       "      <td>2</td>\n",
       "      <td>2</td>\n",
       "      <td>2</td>\n",
       "      <td>2</td>\n",
       "      <td>0.70</td>\n",
       "      <td>96</td>\n",
       "      <td>32</td>\n",
       "      <td>4.0</td>\n",
       "      <td>?</td>\n",
       "      <td>1</td>\n",
       "    </tr>\n",
       "    <tr>\n",
       "      <th>3</th>\n",
       "      <td>2</td>\n",
       "      <td>31</td>\n",
       "      <td>1</td>\n",
       "      <td>?</td>\n",
       "      <td>1</td>\n",
       "      <td>2</td>\n",
       "      <td>2</td>\n",
       "      <td>2</td>\n",
       "      <td>2</td>\n",
       "      <td>2</td>\n",
       "      <td>2</td>\n",
       "      <td>2</td>\n",
       "      <td>2</td>\n",
       "      <td>2</td>\n",
       "      <td>0.70</td>\n",
       "      <td>46</td>\n",
       "      <td>52</td>\n",
       "      <td>4.0</td>\n",
       "      <td>80</td>\n",
       "      <td>1</td>\n",
       "    </tr>\n",
       "    <tr>\n",
       "      <th>4</th>\n",
       "      <td>2</td>\n",
       "      <td>34</td>\n",
       "      <td>1</td>\n",
       "      <td>2</td>\n",
       "      <td>2</td>\n",
       "      <td>2</td>\n",
       "      <td>2</td>\n",
       "      <td>2</td>\n",
       "      <td>2</td>\n",
       "      <td>2</td>\n",
       "      <td>2</td>\n",
       "      <td>2</td>\n",
       "      <td>2</td>\n",
       "      <td>2</td>\n",
       "      <td>1.00</td>\n",
       "      <td>?</td>\n",
       "      <td>200</td>\n",
       "      <td>4.0</td>\n",
       "      <td>?</td>\n",
       "      <td>1</td>\n",
       "    </tr>\n",
       "  </tbody>\n",
       "</table>\n",
       "</div>"
      ],
      "text/plain": [
       "   target  age  sex steroid  antivirals fatigue malaise anorexia liver big  \\\n",
       "0       2   30    2       1           2       2       2        2         1   \n",
       "1       2   50    1       1           2       1       2        2         1   \n",
       "2       2   78    1       2           2       1       2        2         2   \n",
       "3       2   31    1       ?           1       2       2        2         2   \n",
       "4       2   34    1       2           2       2       2        2         2   \n",
       "\n",
       "  liver firm spleen palpable spiders ascites varices bilirubin alk phosphate  \\\n",
       "0          2               2       2       2       2      1.00            85   \n",
       "1          2               2       2       2       2      0.90           135   \n",
       "2          2               2       2       2       2      0.70            96   \n",
       "3          2               2       2       2       2      0.70            46   \n",
       "4          2               2       2       2       2      1.00             ?   \n",
       "\n",
       "  sgot albumin protime  histology  \n",
       "0   18     4.0       ?          1  \n",
       "1   42     3.5       ?          1  \n",
       "2   32     4.0       ?          1  \n",
       "3   52     4.0      80          1  \n",
       "4  200     4.0       ?          1  "
      ]
     },
     "execution_count": 5,
     "metadata": {},
     "output_type": "execute_result"
    }
   ],
   "source": [
    "hepatitis.head()"
   ]
  },
  {
   "cell_type": "markdown",
   "metadata": {},
   "source": [
    "Let us check if all columns are in appropriate data format."
   ]
  },
  {
   "cell_type": "code",
   "execution_count": 6,
   "metadata": {
    "ExecuteTime": {
     "end_time": "2019-11-02T04:05:11.828284Z",
     "start_time": "2019-11-02T04:05:11.820186Z"
    }
   },
   "outputs": [
    {
     "data": {
      "text/plain": [
       "target              int64\n",
       "age                 int64\n",
       "sex                 int64\n",
       "steroid            object\n",
       "antivirals          int64\n",
       "fatigue            object\n",
       "malaise            object\n",
       "anorexia           object\n",
       "liver big          object\n",
       "liver firm         object\n",
       "spleen palpable    object\n",
       "spiders            object\n",
       "ascites            object\n",
       "varices            object\n",
       "bilirubin          object\n",
       "alk phosphate      object\n",
       "sgot               object\n",
       "albumin            object\n",
       "protime            object\n",
       "histology           int64\n",
       "dtype: object"
      ]
     },
     "execution_count": 6,
     "metadata": {},
     "output_type": "execute_result"
    }
   ],
   "source": [
    "hepatitis.dtypes"
   ]
  },
  {
   "cell_type": "markdown",
   "metadata": {},
   "source": [
    "<div class=\"alert alert-block alert-info\"><b> \n",
    "    \n",
    "- Many features which should be numeric are read as objects. We can also see some `?` in the data. \n",
    "</b></div>    \n",
    "\n",
    "We will read the data again converting `?` to NA."
   ]
  },
  {
   "cell_type": "code",
   "execution_count": 8,
   "metadata": {
    "ExecuteTime": {
     "end_time": "2019-11-02T04:06:28.849362Z",
     "start_time": "2019-11-02T04:06:28.833397Z"
    }
   },
   "outputs": [
    {
     "data": {
      "text/plain": [
       "target               int64\n",
       "age                  int64\n",
       "sex                  int64\n",
       "steroid            float64\n",
       "antivirals           int64\n",
       "fatigue            float64\n",
       "malaise            float64\n",
       "anorexia           float64\n",
       "liver big          float64\n",
       "liver firm         float64\n",
       "spleen palpable    float64\n",
       "spiders            float64\n",
       "ascites            float64\n",
       "varices            float64\n",
       "bilirubin          float64\n",
       "alk phosphate      float64\n",
       "sgot               float64\n",
       "albumin            float64\n",
       "protime            float64\n",
       "histology            int64\n",
       "dtype: object"
      ]
     },
     "execution_count": 8,
     "metadata": {},
     "output_type": "execute_result"
    }
   ],
   "source": [
    "hepatitis = pd.read_csv(\"hepatitis.data\", names = colnames, na_values = '?')\n",
    "\n",
    "hepatitis.dtypes"
   ]
  },
  {
   "cell_type": "markdown",
   "metadata": {},
   "source": [
    "Now the data types are corrected. So, ? was the only invalid value.\n",
    "\n",
    "Let us check the distribution of our target variable."
   ]
  },
  {
   "cell_type": "code",
   "execution_count": 9,
   "metadata": {
    "ExecuteTime": {
     "end_time": "2019-11-02T04:06:49.961188Z",
     "start_time": "2019-11-02T04:06:49.950195Z"
    }
   },
   "outputs": [
    {
     "data": {
      "text/plain": [
       "2    79.355\n",
       "1    20.645\n",
       "Name: target, dtype: float64"
      ]
     },
     "execution_count": 9,
     "metadata": {},
     "output_type": "execute_result"
    }
   ],
   "source": [
    "hepatitis.target.value_counts() * 100 / len(hepatitis)"
   ]
  },
  {
   "cell_type": "markdown",
   "metadata": {},
   "source": [
    "The data is imbalanced with 80% data for LIVE vs 20% data for DIE.\n",
    "\n",
    "Let us seperate our numerical and categorical attributes."
   ]
  },
  {
   "cell_type": "code",
   "execution_count": 10,
   "metadata": {
    "ExecuteTime": {
     "end_time": "2019-11-02T04:08:07.788146Z",
     "start_time": "2019-11-02T04:08:07.776063Z"
    }
   },
   "outputs": [
    {
     "data": {
      "text/plain": [
       "Index(['age', 'bilirubin', 'alk phosphate', 'sgot', 'albumin', 'protime'], dtype='object')"
      ]
     },
     "execution_count": 10,
     "metadata": {},
     "output_type": "execute_result"
    }
   ],
   "source": [
    "# create a list for all categorical column names\n",
    "cat_cols = ['sex', 'steroid', 'antivirals', 'fatigue', 'malaise', 'anorexia', 'liver big', \n",
    "            'liver firm', 'spleen palpable', 'spiders', 'ascites', 'varices', 'histology']\n",
    "\n",
    "# create a list for all numerical column names\n",
    "num_cols = hepatitis.columns[~hepatitis.columns.isin(cat_cols)]\n",
    "\n",
    "# remove target column\n",
    "num_cols = num_cols.delete(0)\n",
    "\n",
    "num_cols"
   ]
  },
  {
   "cell_type": "markdown",
   "metadata": {},
   "source": [
    "We will convert all categorical variable to category type."
   ]
  },
  {
   "cell_type": "code",
   "execution_count": 11,
   "metadata": {
    "ExecuteTime": {
     "end_time": "2019-11-02T09:49:02.248513Z",
     "start_time": "2019-11-02T09:49:02.223577Z"
    }
   },
   "outputs": [],
   "source": [
    "hepatitis[cat_cols] = hepatitis[cat_cols].apply(lambda x : x.astype('category'))\n",
    "\n",
    "#A lambda function is a small anonymous function.\n",
    "#A lambda function can take any number of arguments, but can only have one expression."
   ]
  },
  {
   "cell_type": "code",
   "execution_count": 12,
   "metadata": {
    "ExecuteTime": {
     "end_time": "2019-11-02T09:49:11.174445Z",
     "start_time": "2019-11-02T09:49:11.165535Z"
    }
   },
   "outputs": [
    {
     "name": "stdout",
     "output_type": "stream",
     "text": [
      "30\n"
     ]
    }
   ],
   "source": [
    "x = lambda a : a + 10\n",
    "print(x(20))"
   ]
  },
  {
   "cell_type": "markdown",
   "metadata": {},
   "source": [
    "We will check there are no invalid values in any of the categorical variables."
   ]
  },
  {
   "cell_type": "code",
   "execution_count": 13,
   "metadata": {
    "ExecuteTime": {
     "end_time": "2019-11-02T04:22:17.646152Z",
     "start_time": "2019-11-02T04:22:17.599898Z"
    },
    "scrolled": true
   },
   "outputs": [
    {
     "name": "stdout",
     "output_type": "stream",
     "text": [
      "sex ----->> [2, 1]\n",
      "Categories (2, int64): [2, 1] \n",
      "\n",
      "steroid ----->> [1.0, 2.0, NaN]\n",
      "Categories (2, float64): [1.0, 2.0] \n",
      "\n",
      "antivirals ----->> [2, 1]\n",
      "Categories (2, int64): [2, 1] \n",
      "\n",
      "fatigue ----->> [2.0, 1.0, NaN]\n",
      "Categories (2, float64): [2.0, 1.0] \n",
      "\n",
      "malaise ----->> [2.0, 1.0, NaN]\n",
      "Categories (2, float64): [2.0, 1.0] \n",
      "\n",
      "anorexia ----->> [2.0, 1.0, NaN]\n",
      "Categories (2, float64): [2.0, 1.0] \n",
      "\n",
      "liver big ----->> [1.0, 2.0, NaN]\n",
      "Categories (2, float64): [1.0, 2.0] \n",
      "\n",
      "liver firm ----->> [2.0, 1.0, NaN]\n",
      "Categories (2, float64): [2.0, 1.0] \n",
      "\n",
      "spleen palpable ----->> [2.0, 1.0, NaN]\n",
      "Categories (2, float64): [2.0, 1.0] \n",
      "\n",
      "spiders ----->> [2.0, 1.0, NaN]\n",
      "Categories (2, float64): [2.0, 1.0] \n",
      "\n",
      "ascites ----->> [2.0, 1.0, NaN]\n",
      "Categories (2, float64): [2.0, 1.0] \n",
      "\n",
      "varices ----->> [2.0, NaN, 1.0]\n",
      "Categories (2, float64): [2.0, 1.0] \n",
      "\n",
      "histology ----->> [1, 2]\n",
      "Categories (2, int64): [1, 2] \n",
      "\n"
     ]
    }
   ],
   "source": [
    "for x in cat_cols :\n",
    "    print(x, '----->>', hepatitis[x].unique(), '\\n')"
   ]
  },
  {
   "cell_type": "markdown",
   "metadata": {},
   "source": [
    "There are no invalid values only NaN that we will impute.\n",
    "\n",
    "Let us check numerical data as well."
   ]
  },
  {
   "cell_type": "code",
   "execution_count": 14,
   "metadata": {
    "ExecuteTime": {
     "end_time": "2019-11-02T04:25:17.761154Z",
     "start_time": "2019-11-02T04:25:17.714510Z"
    }
   },
   "outputs": [
    {
     "data": {
      "text/html": [
       "<div>\n",
       "<style scoped>\n",
       "    .dataframe tbody tr th:only-of-type {\n",
       "        vertical-align: middle;\n",
       "    }\n",
       "\n",
       "    .dataframe tbody tr th {\n",
       "        vertical-align: top;\n",
       "    }\n",
       "\n",
       "    .dataframe thead th {\n",
       "        text-align: right;\n",
       "    }\n",
       "</style>\n",
       "<table border=\"1\" class=\"dataframe\">\n",
       "  <thead>\n",
       "    <tr style=\"text-align: right;\">\n",
       "      <th></th>\n",
       "      <th>age</th>\n",
       "      <th>bilirubin</th>\n",
       "      <th>alk phosphate</th>\n",
       "      <th>sgot</th>\n",
       "      <th>albumin</th>\n",
       "      <th>protime</th>\n",
       "    </tr>\n",
       "  </thead>\n",
       "  <tbody>\n",
       "    <tr>\n",
       "      <th>count</th>\n",
       "      <td>155.000</td>\n",
       "      <td>149.000</td>\n",
       "      <td>126.000</td>\n",
       "      <td>151.000</td>\n",
       "      <td>139.000</td>\n",
       "      <td>88.000</td>\n",
       "    </tr>\n",
       "    <tr>\n",
       "      <th>mean</th>\n",
       "      <td>41.200</td>\n",
       "      <td>1.428</td>\n",
       "      <td>105.325</td>\n",
       "      <td>85.894</td>\n",
       "      <td>3.817</td>\n",
       "      <td>61.852</td>\n",
       "    </tr>\n",
       "    <tr>\n",
       "      <th>std</th>\n",
       "      <td>12.566</td>\n",
       "      <td>1.212</td>\n",
       "      <td>51.508</td>\n",
       "      <td>89.651</td>\n",
       "      <td>0.652</td>\n",
       "      <td>22.875</td>\n",
       "    </tr>\n",
       "    <tr>\n",
       "      <th>min</th>\n",
       "      <td>7.000</td>\n",
       "      <td>0.300</td>\n",
       "      <td>26.000</td>\n",
       "      <td>14.000</td>\n",
       "      <td>2.100</td>\n",
       "      <td>0.000</td>\n",
       "    </tr>\n",
       "    <tr>\n",
       "      <th>25%</th>\n",
       "      <td>32.000</td>\n",
       "      <td>0.700</td>\n",
       "      <td>74.250</td>\n",
       "      <td>31.500</td>\n",
       "      <td>3.400</td>\n",
       "      <td>46.000</td>\n",
       "    </tr>\n",
       "    <tr>\n",
       "      <th>50%</th>\n",
       "      <td>39.000</td>\n",
       "      <td>1.000</td>\n",
       "      <td>85.000</td>\n",
       "      <td>58.000</td>\n",
       "      <td>4.000</td>\n",
       "      <td>61.000</td>\n",
       "    </tr>\n",
       "    <tr>\n",
       "      <th>75%</th>\n",
       "      <td>50.000</td>\n",
       "      <td>1.500</td>\n",
       "      <td>132.250</td>\n",
       "      <td>100.500</td>\n",
       "      <td>4.200</td>\n",
       "      <td>76.250</td>\n",
       "    </tr>\n",
       "    <tr>\n",
       "      <th>max</th>\n",
       "      <td>78.000</td>\n",
       "      <td>8.000</td>\n",
       "      <td>295.000</td>\n",
       "      <td>648.000</td>\n",
       "      <td>6.400</td>\n",
       "      <td>100.000</td>\n",
       "    </tr>\n",
       "  </tbody>\n",
       "</table>\n",
       "</div>"
      ],
      "text/plain": [
       "           age  bilirubin  alk phosphate     sgot  albumin  protime\n",
       "count  155.000    149.000        126.000  151.000  139.000   88.000\n",
       "mean    41.200      1.428        105.325   85.894    3.817   61.852\n",
       "std     12.566      1.212         51.508   89.651    0.652   22.875\n",
       "min      7.000      0.300         26.000   14.000    2.100    0.000\n",
       "25%     32.000      0.700         74.250   31.500    3.400   46.000\n",
       "50%     39.000      1.000         85.000   58.000    4.000   61.000\n",
       "75%     50.000      1.500        132.250  100.500    4.200   76.250\n",
       "max     78.000      8.000        295.000  648.000    6.400  100.000"
      ]
     },
     "execution_count": 14,
     "metadata": {},
     "output_type": "execute_result"
    }
   ],
   "source": [
    "hepatitis[num_cols].describe()"
   ]
  },
  {
   "cell_type": "markdown",
   "metadata": {},
   "source": [
    "> The data looks clean.\n",
    "\n",
    "Let us check for percentage of NA values for each feature."
   ]
  },
  {
   "cell_type": "code",
   "execution_count": 15,
   "metadata": {
    "ExecuteTime": {
     "end_time": "2019-11-02T04:25:57.979138Z",
     "start_time": "2019-11-02T04:25:57.967005Z"
    }
   },
   "outputs": [
    {
     "data": {
      "text/plain": [
       "target              0.000\n",
       "age                 0.000\n",
       "sex                 0.000\n",
       "steroid             0.645\n",
       "antivirals          0.000\n",
       "fatigue             0.645\n",
       "malaise             0.645\n",
       "anorexia            0.645\n",
       "liver big           6.452\n",
       "liver firm          7.097\n",
       "spleen palpable     3.226\n",
       "spiders             3.226\n",
       "ascites             3.226\n",
       "varices             3.226\n",
       "bilirubin           3.871\n",
       "alk phosphate      18.710\n",
       "sgot                2.581\n",
       "albumin            10.323\n",
       "protime            43.226\n",
       "histology           0.000\n",
       "dtype: float64"
      ]
     },
     "execution_count": 15,
     "metadata": {},
     "output_type": "execute_result"
    }
   ],
   "source": [
    "hepatitis.isnull().sum() * 100 / len(hepatitis)"
   ]
  },
  {
   "cell_type": "markdown",
   "metadata": {},
   "source": [
    "<div class=\"alert alert-block alert-info\"><b> \n",
    "    \n",
    "- Protime has nearly 43% NA values. We can consider removing this value as imputing might not work well. Before that, we will see the range & distribution of this column.\n",
    "- For other columns, we will us KNN imputation.\n",
    "\n",
    "</b></div>"
   ]
  },
  {
   "cell_type": "code",
   "execution_count": 16,
   "metadata": {
    "ExecuteTime": {
     "end_time": "2019-11-02T04:26:45.168676Z",
     "start_time": "2019-11-02T04:26:44.878985Z"
    }
   },
   "outputs": [
    {
     "data": {
      "text/plain": [
       "<matplotlib.axes._subplots.AxesSubplot at 0x1ee5e35b608>"
      ]
     },
     "execution_count": 16,
     "metadata": {},
     "output_type": "execute_result"
    },
    {
     "data": {
      "image/png": "[encoded data removed]",
      "text/plain": [
       "<Figure size 432x288 with 1 Axes>"
      ]
     },
     "metadata": {
      "needs_background": "light"
     },
     "output_type": "display_data"
    }
   ],
   "source": [
    "import matplotlib.pyplot as plt\n",
    "import seaborn as sns\n",
    "\n",
    "hepatitis.protime.hist(bins = 50)"
   ]
  },
  {
   "cell_type": "markdown",
   "metadata": {},
   "source": [
    "The range of the variable is quite wide compared to other features and values are very spread out so mean imputation will not be a good idea. We will use Knn Imputation.\n",
    "\n",
    "# Model Building\n",
    "\n",
    "___\n",
    "\n",
    "We will seperate our independent variables and target variable."
   ]
  },
  {
   "cell_type": "code",
   "execution_count": 17,
   "metadata": {
    "ExecuteTime": {
     "end_time": "2019-11-02T04:27:24.653715Z",
     "start_time": "2019-11-02T04:27:24.646723Z"
    }
   },
   "outputs": [],
   "source": [
    "# independent variables\n",
    "X = hepatitis.drop('target', axis = 1)\n",
    "\n",
    "# dependent variable\n",
    "y = hepatitis['target']\n"
   ]
  },
  {
   "cell_type": "markdown",
   "metadata": {},
   "source": [
    "\n",
    "### Function to prepare data\n",
    "\n",
    "We will write a function to prepare data for following functions.\n",
    "\n",
    "- Train and Test Split\n",
    "- Fit the Imputer on Train Data"
   ]
  },
  {
   "cell_type": "code",
   "execution_count": 18,
   "metadata": {
    "ExecuteTime": {
     "end_time": "2019-11-02T04:53:17.370165Z",
     "start_time": "2019-11-02T04:53:17.364882Z"
    }
   },
   "outputs": [],
   "source": [
    "from sklearn.experimental import enable_iterative_imputer\n",
    "from sklearn.impute import IterativeImputer\n",
    "\n",
    "from sklearn.neighbors import KNeighborsRegressor, KNeighborsClassifier\n",
    "\n",
    "num_imputer = IterativeImputer(estimator = KNeighborsRegressor(n_neighbors = 5))\n",
    "cat_imputer = IterativeImputer(estimator = KNeighborsClassifier(n_neighbors = 5))"
   ]
  },
  {
   "cell_type": "code",
   "execution_count": 19,
   "metadata": {
    "ExecuteTime": {
     "end_time": "2019-11-02T04:54:29.598142Z",
     "start_time": "2019-11-02T04:54:29.590953Z"
    }
   },
   "outputs": [],
   "source": [
    "from sklearn.model_selection import train_test_split\n",
    "\n",
    "def prepare_data(X, y, split_size = 0.3) :\n",
    "    \n",
    "    X_train, X_test, y_train, y_test = train_test_split(X, y, test_size = split_size)  \n",
    "\n",
    "    num_imputer.fit(X_train[num_cols])\n",
    "    cat_imputer.fit(X_train[cat_cols])\n",
    "    \n",
    "    print(X_train.shape)\n",
    "    print(X_test.shape)\n",
    "    \n",
    "    return X_train, X_test, y_train, y_test"
   ]
  },
  {
   "cell_type": "code",
   "execution_count": 20,
   "metadata": {
    "ExecuteTime": {
     "end_time": "2019-11-02T04:56:02.520624Z",
     "start_time": "2019-11-02T04:56:02.353055Z"
    },
    "scrolled": true
   },
   "outputs": [
    {
     "name": "stdout",
     "output_type": "stream",
     "text": [
      "(124, 19)\n",
      "(31, 19)\n"
     ]
    }
   ],
   "source": [
    "# call function to prepare data\n",
    "X_train, X_test, y_train, y_test = prepare_data(X, y, 0.2)"
   ]
  },
  {
   "cell_type": "markdown",
   "metadata": {},
   "source": [
    "### Function to pre-process data\n",
    "\n",
    "We will write a function to pre-process data for following functions. This function will be called to transform both train and test datasets.\n",
    "\n",
    "- Impute the numerical features\n",
    "- Impute the categorical features"
   ]
  },
  {
   "cell_type": "code",
   "execution_count": 21,
   "metadata": {
    "ExecuteTime": {
     "end_time": "2019-11-02T04:56:30.519514Z",
     "start_time": "2019-11-02T04:56:30.513471Z"
    }
   },
   "outputs": [],
   "source": [
    "def preprocess_data(data) :\n",
    "    \n",
    "    # impute numerical features\n",
    "    data[num_cols] = num_imputer.transform(data[num_cols])\n",
    "    \n",
    "    # impute categorical features\n",
    "    data[cat_cols] = cat_imputer.transform(data[cat_cols])\n",
    "\n",
    "    return data"
   ]
  },
  {
   "cell_type": "markdown",
   "metadata": {},
   "source": [
    "Call the pre-process function for both train and test data."
   ]
  },
  {
   "cell_type": "code",
   "execution_count": 22,
   "metadata": {
    "ExecuteTime": {
     "end_time": "2019-11-02T04:56:57.176063Z",
     "start_time": "2019-11-02T04:56:54.975072Z"
    }
   },
   "outputs": [],
   "source": [
    "X_train = preprocess_data(X_train)\n",
    "X_test = preprocess_data(X_test)"
   ]
  },
  {
   "cell_type": "markdown",
   "metadata": {},
   "source": [
    "### Function for Model Fit & Predict\n",
    "\n",
    "We will write a function for following functions. \n",
    "\n",
    "- Fit the model on train data\n",
    "- Perform cross-validation when needed\n",
    "- Predict on train and test data"
   ]
  },
  {
   "cell_type": "code",
   "execution_count": 23,
   "metadata": {
    "ExecuteTime": {
     "end_time": "2019-11-02T04:57:28.301388Z",
     "start_time": "2019-11-02T04:57:28.293402Z"
    }
   },
   "outputs": [],
   "source": [
    "from sklearn.model_selection import GridSearchCV\n",
    "\n",
    "def model_building(X, y, test, model, params = None, k = 1) :\n",
    "    \n",
    "    if params == None :\n",
    "        model.fit(X, y)\n",
    "        \n",
    "        # return fitted model & train-test predictions\n",
    "        return (model, model.predict(X), model.predict(test))\n",
    "    \n",
    "    else :\n",
    "        model_cv = GridSearchCV(model, param_grid = params, cv = k)\n",
    "        model_cv.fit(X, y)\n",
    "        model = model_cv\n",
    "        \n",
    "        \n",
    "        # return and extra object for all cross validation operations\n",
    "        return (model_cv, model, model.predict(X), model.predict(test))"
   ]
  },
  {
   "cell_type": "markdown",
   "metadata": {},
   "source": [
    "### Function to Evaluate Model"
   ]
  },
  {
   "cell_type": "code",
   "execution_count": 24,
   "metadata": {
    "ExecuteTime": {
     "end_time": "2019-11-02T04:57:40.751878Z",
     "start_time": "2019-11-02T04:57:40.745392Z"
    }
   },
   "outputs": [],
   "source": [
    "from sklearn.metrics import confusion_matrix \n",
    "from sklearn.metrics import accuracy_score \n",
    "from sklearn.metrics import classification_report \n",
    "\n",
    "def model_evaluation(y_train, pred_train, y_test, pred_test) :\n",
    "    \n",
    "    print('''\n",
    "            =========================================\n",
    "               CLASSIFICATION REPORT FOR TRAIN DATA\n",
    "            =========================================''')\n",
    "    print(classification_report(y_train, pred_train))\n",
    "    \n",
    "    print('''\n",
    "            =========================================\n",
    "               CLASSIFICATION REPORT FOR TEST DATA\n",
    "            =========================================''')\n",
    "    print(classification_report(y_test, pred_test))"
   ]
  },
  {
   "cell_type": "markdown",
   "metadata": {},
   "source": [
    "## Build Ensemble Models\n",
    "\n",
    "___\n",
    "\n",
    "\n",
    "We will build all 4 ensembles model.\n",
    "\n",
    "- [BaggingClassifier](https://scikit-learn.org/stable/modules/generated/sklearn.ensemble.BaggingClassifier.html)\n",
    "- [AdaBoostClassifier](https://scikit-learn.org/stable/modules/generated/sklearn.ensemble.AdaBoostClassifier.html)\n",
    "- [RandomForestClassifier](https://scikit-learn.org/stable/modules/generated/sklearn.ensemble.RandomForestClassifier.html)\n",
    "- [GradientBoostingClassifier](https://scikit-learn.org/stable/modules/generated/sklearn.ensemble.GradientBoostingClassifier.html)\n",
    "- [XGBClassifier](https://xgboost.readthedocs.io/en/latest/python/python_api.html)"
   ]
  },
  {
   "cell_type": "markdown",
   "metadata": {},
   "source": [
    "**Unique features of XGBoost**\n",
    "\n",
    "**Regularization:** XGBoost has an option to penalize complex models through both L1 and L2 regularization. Regularization helps in preventing overfitting\n",
    "\n",
    "**Handling sparse data:** Missing values or data processing steps like one-hot encoding make data sparse. XGBoost incorporates a sparsity-aware split finding algorithm to handle different types of sparsity patterns in the data"
   ]
  },
  {
   "cell_type": "code",
   "execution_count": 26,
   "metadata": {
    "ExecuteTime": {
     "end_time": "2019-11-02T04:58:52.041514Z",
     "start_time": "2019-11-02T04:58:52.038207Z"
    }
   },
   "outputs": [
    {
     "name": "stdout",
     "output_type": "stream",
     "text": [
      "Requirement already satisfied: xgboost in d:\\anaconda\\lib\\site-packages (1.1.1)\n",
      "Requirement already satisfied: numpy in d:\\anaconda\\lib\\site-packages (from xgboost) (1.18.1)\n",
      "Requirement already satisfied: scipy in d:\\anaconda\\lib\\site-packages (from xgboost) (1.4.1)\n"
     ]
    }
   ],
   "source": [
    "!pip install xgboost"
   ]
  },
  {
   "cell_type": "code",
   "execution_count": 27,
   "metadata": {
    "ExecuteTime": {
     "end_time": "2019-11-02T05:03:49.176297Z",
     "start_time": "2019-11-02T05:03:48.913147Z"
    }
   },
   "outputs": [
    {
     "name": "stdout",
     "output_type": "stream",
     "text": [
      "===================================================================\n",
      "\t\t\t BaggingClassifier \n",
      "===================================================================\n",
      "\n",
      "\n",
      "            =========================================\n",
      "               CLASSIFICATION REPORT FOR TRAIN DATA\n",
      "            =========================================\n",
      "              precision    recall  f1-score   support\n",
      "\n",
      "           1       0.96      0.96      0.96        27\n",
      "           2       0.99      0.99      0.99        97\n",
      "\n",
      "    accuracy                           0.98       124\n",
      "   macro avg       0.98      0.98      0.98       124\n",
      "weighted avg       0.98      0.98      0.98       124\n",
      "\n",
      "\n",
      "            =========================================\n",
      "               CLASSIFICATION REPORT FOR TEST DATA\n",
      "            =========================================\n",
      "              precision    recall  f1-score   support\n",
      "\n",
      "           1       0.60      0.60      0.60         5\n",
      "           2       0.92      0.92      0.92        26\n",
      "\n",
      "    accuracy                           0.87        31\n",
      "   macro avg       0.76      0.76      0.76        31\n",
      "weighted avg       0.87      0.87      0.87        31\n",
      "\n",
      "===================================================================\n",
      "\t\t\t AdaBoostClassifier \n",
      "===================================================================\n",
      "\n",
      "\n",
      "            =========================================\n",
      "               CLASSIFICATION REPORT FOR TRAIN DATA\n",
      "            =========================================\n",
      "              precision    recall  f1-score   support\n",
      "\n",
      "           1       1.00      1.00      1.00        27\n",
      "           2       1.00      1.00      1.00        97\n",
      "\n",
      "    accuracy                           1.00       124\n",
      "   macro avg       1.00      1.00      1.00       124\n",
      "weighted avg       1.00      1.00      1.00       124\n",
      "\n",
      "\n",
      "            =========================================\n",
      "               CLASSIFICATION REPORT FOR TEST DATA\n",
      "            =========================================\n",
      "              precision    recall  f1-score   support\n",
      "\n",
      "           1       0.50      0.40      0.44         5\n",
      "           2       0.89      0.92      0.91        26\n",
      "\n",
      "    accuracy                           0.84        31\n",
      "   macro avg       0.69      0.66      0.68        31\n",
      "weighted avg       0.83      0.84      0.83        31\n",
      "\n",
      "===================================================================\n",
      "\t\t\t RandomForestClassifier \n",
      "===================================================================\n",
      "\n",
      "\n",
      "            =========================================\n",
      "               CLASSIFICATION REPORT FOR TRAIN DATA\n",
      "            =========================================\n",
      "              precision    recall  f1-score   support\n",
      "\n",
      "           1       1.00      1.00      1.00        27\n",
      "           2       1.00      1.00      1.00        97\n",
      "\n",
      "    accuracy                           1.00       124\n",
      "   macro avg       1.00      1.00      1.00       124\n",
      "weighted avg       1.00      1.00      1.00       124\n",
      "\n",
      "\n",
      "            =========================================\n",
      "               CLASSIFICATION REPORT FOR TEST DATA\n",
      "            =========================================\n",
      "              precision    recall  f1-score   support\n",
      "\n",
      "           1       0.60      0.60      0.60         5\n",
      "           2       0.92      0.92      0.92        26\n",
      "\n",
      "    accuracy                           0.87        31\n",
      "   macro avg       0.76      0.76      0.76        31\n",
      "weighted avg       0.87      0.87      0.87        31\n",
      "\n",
      "===================================================================\n",
      "\t\t\t GradientBoostingClassifier \n",
      "===================================================================\n",
      "\n",
      "\n",
      "            =========================================\n",
      "               CLASSIFICATION REPORT FOR TRAIN DATA\n",
      "            =========================================\n",
      "              precision    recall  f1-score   support\n",
      "\n",
      "           1       1.00      1.00      1.00        27\n",
      "           2       1.00      1.00      1.00        97\n",
      "\n",
      "    accuracy                           1.00       124\n",
      "   macro avg       1.00      1.00      1.00       124\n",
      "weighted avg       1.00      1.00      1.00       124\n",
      "\n",
      "\n",
      "            =========================================\n",
      "               CLASSIFICATION REPORT FOR TEST DATA\n",
      "            =========================================\n",
      "              precision    recall  f1-score   support\n",
      "\n",
      "           1       0.60      0.60      0.60         5\n",
      "           2       0.92      0.92      0.92        26\n",
      "\n",
      "    accuracy                           0.87        31\n",
      "   macro avg       0.76      0.76      0.76        31\n",
      "weighted avg       0.87      0.87      0.87        31\n",
      "\n",
      "===================================================================\n",
      "\t\t\t XGBClassifier \n",
      "===================================================================\n",
      "\n",
      "\n",
      "            =========================================\n",
      "               CLASSIFICATION REPORT FOR TRAIN DATA\n",
      "            =========================================\n",
      "              precision    recall  f1-score   support\n",
      "\n",
      "           1       1.00      1.00      1.00        27\n",
      "           2       1.00      1.00      1.00        97\n",
      "\n",
      "    accuracy                           1.00       124\n",
      "   macro avg       1.00      1.00      1.00       124\n",
      "weighted avg       1.00      1.00      1.00       124\n",
      "\n",
      "\n",
      "            =========================================\n",
      "               CLASSIFICATION REPORT FOR TEST DATA\n",
      "            =========================================\n",
      "              precision    recall  f1-score   support\n",
      "\n",
      "           1       0.50      0.40      0.44         5\n",
      "           2       0.89      0.92      0.91        26\n",
      "\n",
      "    accuracy                           0.84        31\n",
      "   macro avg       0.69      0.66      0.68        31\n",
      "weighted avg       0.83      0.84      0.83        31\n",
      "\n"
     ]
    }
   ],
   "source": [
    "from sklearn.ensemble import BaggingClassifier, AdaBoostClassifier, RandomForestClassifier, GradientBoostingClassifier\n",
    "from xgboost import XGBClassifier\n",
    "\n",
    "#AdaBoostClassifier()\n",
    "estimators = [BaggingClassifier(random_state=123),\n",
    "              AdaBoostClassifier(random_state=123), \n",
    "              RandomForestClassifier(random_state=123), \n",
    "              GradientBoostingClassifier(random_state=123),\n",
    "              XGBClassifier(random_state=123)]\n",
    "\n",
    "for estimator in estimators :\n",
    "\n",
    "    model, pred_train, pred_test = model_building(X_train, y_train,\n",
    "                                                  X_test, estimator)\n",
    "    \n",
    "    print('===================================================================\\n\\t\\t\\t',\n",
    "          type(estimator).__name__,\n",
    "          '\\n===================================================================\\n')\n",
    "    \n",
    "    model_evaluation(y_train, pred_train, y_test, pred_test)"
   ]
  },
  {
   "cell_type": "markdown",
   "metadata": {},
   "source": [
    "All the models are overfitting as train accuracy is nearly 100% and test is arounf 71 - 74%.\n",
    "\n",
    "## K-fold Crossvalidation with Grid Search"
   ]
  },
  {
   "cell_type": "code",
   "execution_count": 28,
   "metadata": {
    "ExecuteTime": {
     "end_time": "2019-11-02T05:10:16.420086Z",
     "start_time": "2019-11-02T05:07:53.088784Z"
    }
   },
   "outputs": [
    {
     "name": "stdout",
     "output_type": "stream",
     "text": [
      "===================================================================\n",
      "\t\t\t AdaBoostClassifier \n",
      "===================================================================\n",
      "\n",
      "{'learning_rate': 0.1, 'n_estimators': 100} \n",
      "\n",
      "\n",
      "\n",
      "            =========================================\n",
      "               CLASSIFICATION REPORT FOR TRAIN DATA\n",
      "            =========================================\n",
      "              precision    recall  f1-score   support\n",
      "\n",
      "           1       0.96      0.85      0.90        27\n",
      "           2       0.96      0.99      0.97        97\n",
      "\n",
      "    accuracy                           0.96       124\n",
      "   macro avg       0.96      0.92      0.94       124\n",
      "weighted avg       0.96      0.96      0.96       124\n",
      "\n",
      "\n",
      "            =========================================\n",
      "               CLASSIFICATION REPORT FOR TEST DATA\n",
      "            =========================================\n",
      "              precision    recall  f1-score   support\n",
      "\n",
      "           1       0.33      0.20      0.25         5\n",
      "           2       0.86      0.92      0.89        26\n",
      "\n",
      "    accuracy                           0.81        31\n",
      "   macro avg       0.60      0.56      0.57        31\n",
      "weighted avg       0.77      0.81      0.79        31\n",
      "\n",
      "===================================================================\n",
      "\t\t\t RandomForestClassifier \n",
      "===================================================================\n",
      "\n",
      "{'max_depth': 16, 'min_samples_leaf': 5, 'n_estimators': 25} \n",
      "\n",
      "\n",
      "\n",
      "            =========================================\n",
      "               CLASSIFICATION REPORT FOR TRAIN DATA\n",
      "            =========================================\n",
      "              precision    recall  f1-score   support\n",
      "\n",
      "           1       0.94      0.63      0.76        27\n",
      "           2       0.91      0.99      0.95        97\n",
      "\n",
      "    accuracy                           0.91       124\n",
      "   macro avg       0.93      0.81      0.85       124\n",
      "weighted avg       0.91      0.91      0.90       124\n",
      "\n",
      "\n",
      "            =========================================\n",
      "               CLASSIFICATION REPORT FOR TEST DATA\n",
      "            =========================================\n",
      "              precision    recall  f1-score   support\n",
      "\n",
      "           1       0.67      0.40      0.50         5\n",
      "           2       0.89      0.96      0.93        26\n",
      "\n",
      "    accuracy                           0.87        31\n",
      "   macro avg       0.78      0.68      0.71        31\n",
      "weighted avg       0.86      0.87      0.86        31\n",
      "\n",
      "===================================================================\n",
      "\t\t\t RandomForestClassifier \n",
      "===================================================================\n",
      "\n",
      "{'class_weight': 'balanced', 'max_depth': 18, 'min_samples_leaf': 10, 'n_estimators': 25} \n",
      "\n",
      "\n",
      "\n",
      "            =========================================\n",
      "               CLASSIFICATION REPORT FOR TRAIN DATA\n",
      "            =========================================\n",
      "              precision    recall  f1-score   support\n",
      "\n",
      "           1       0.54      0.93      0.68        27\n",
      "           2       0.97      0.78      0.87        97\n",
      "\n",
      "    accuracy                           0.81       124\n",
      "   macro avg       0.76      0.85      0.78       124\n",
      "weighted avg       0.88      0.81      0.83       124\n",
      "\n",
      "\n",
      "            =========================================\n",
      "               CLASSIFICATION REPORT FOR TEST DATA\n",
      "            =========================================\n",
      "              precision    recall  f1-score   support\n",
      "\n",
      "           1       0.57      0.80      0.67         5\n",
      "           2       0.96      0.88      0.92        26\n",
      "\n",
      "    accuracy                           0.87        31\n",
      "   macro avg       0.76      0.84      0.79        31\n",
      "weighted avg       0.90      0.87      0.88        31\n",
      "\n",
      "===================================================================\n",
      "\t\t\t GradientBoostingClassifier \n",
      "===================================================================\n",
      "\n",
      "{'learning_rate': 0.1, 'max_depth': 10, 'n_estimators': 150} \n",
      "\n",
      "\n",
      "\n",
      "            =========================================\n",
      "               CLASSIFICATION REPORT FOR TRAIN DATA\n",
      "            =========================================\n",
      "              precision    recall  f1-score   support\n",
      "\n",
      "           1       1.00      1.00      1.00        27\n",
      "           2       1.00      1.00      1.00        97\n",
      "\n",
      "    accuracy                           1.00       124\n",
      "   macro avg       1.00      1.00      1.00       124\n",
      "weighted avg       1.00      1.00      1.00       124\n",
      "\n",
      "\n",
      "            =========================================\n",
      "               CLASSIFICATION REPORT FOR TEST DATA\n",
      "            =========================================\n",
      "              precision    recall  f1-score   support\n",
      "\n",
      "           1       0.50      0.60      0.55         5\n",
      "           2       0.92      0.88      0.90        26\n",
      "\n",
      "    accuracy                           0.84        31\n",
      "   macro avg       0.71      0.74      0.72        31\n",
      "weighted avg       0.85      0.84      0.84        31\n",
      "\n",
      "===================================================================\n",
      "\t\t\t XGBClassifier \n",
      "===================================================================\n",
      "\n",
      "{'colsample_bytree': 0.7, 'max_depth': 10, 'n_estimators': 100} \n",
      "\n",
      "\n",
      "\n",
      "            =========================================\n",
      "               CLASSIFICATION REPORT FOR TRAIN DATA\n",
      "            =========================================\n",
      "              precision    recall  f1-score   support\n",
      "\n",
      "           1       1.00      1.00      1.00        27\n",
      "           2       1.00      1.00      1.00        97\n",
      "\n",
      "    accuracy                           1.00       124\n",
      "   macro avg       1.00      1.00      1.00       124\n",
      "weighted avg       1.00      1.00      1.00       124\n",
      "\n",
      "\n",
      "            =========================================\n",
      "               CLASSIFICATION REPORT FOR TEST DATA\n",
      "            =========================================\n",
      "              precision    recall  f1-score   support\n",
      "\n",
      "           1       0.50      0.40      0.44         5\n",
      "           2       0.89      0.92      0.91        26\n",
      "\n",
      "    accuracy                           0.84        31\n",
      "   macro avg       0.69      0.66      0.68        31\n",
      "weighted avg       0.83      0.84      0.83        31\n",
      "\n"
     ]
    }
   ],
   "source": [
    "estimators = [(AdaBoostClassifier(), {'n_estimators' : [100, 150, 200], \n",
    "                                      'learning_rate' : [0.1, 0.5, 0.9]}), \n",
    "              (RandomForestClassifier(), {'n_estimators' : [10, 25, 50, 75, 100], \n",
    "                                          'max_depth' : [10, 12, 14, 16, 18, 20], \n",
    "                                          'min_samples_leaf' : [5, 10, 15, 20]}), \n",
    "              (RandomForestClassifier(), {'n_estimators' : [10, 25, 50, 75, 100], \n",
    "                                          'max_depth' : [10, 12, 14, 16, 18, 20], \n",
    "                                          'min_samples_leaf' : [5, 10, 15, 20], \n",
    "                                          'class_weight' : ['balanced']}),\n",
    "              (GradientBoostingClassifier(), {'n_estimators' : [100,150,200,250], \n",
    "                                              'max_depth' : [5, 10], \n",
    "                                              'learning_rate' : [0.1,0.5,0.9]}), \n",
    "              (XGBClassifier(), {'colsample_bytree': [0.5, 0.6, 0.7], \n",
    "                                 'n_estimators':[100, 200], \n",
    "                                 'max_depth': [10, 15, 20, 25]})]\n",
    "\n",
    "for estimator, parameters in estimators :\n",
    "    \n",
    "    model_cv, model, pred_train, pred_test = model_building(X_train, y_train,\n",
    "                                                            X_test, estimator, parameters, 10)\n",
    "    \n",
    "    print('===================================================================\\n\\t\\t\\t',\n",
    "          type(estimator).__name__,\n",
    "          '\\n===================================================================\\n')\n",
    "    \n",
    "    print(model_cv.best_params_, '\\n\\n')\n",
    "    \n",
    "    model_evaluation(y_train, pred_train, y_test, pred_test)\n",
    "    "
   ]
  },
  {
   "cell_type": "markdown",
   "metadata": {},
   "source": [
    "> **Random Forest with balanced weights is giving the best result.**"
   ]
  },
  {
   "cell_type": "markdown",
   "metadata": {},
   "source": [
    "# Model Iterations\n",
    "\n",
    "___\n",
    "\n",
    "We will keep a separate dataframe where we don't have protime feature."
   ]
  },
  {
   "cell_type": "code",
   "execution_count": 29,
   "metadata": {
    "ExecuteTime": {
     "end_time": "2019-11-02T05:14:01.627518Z",
     "start_time": "2019-11-02T05:14:01.621960Z"
    }
   },
   "outputs": [],
   "source": [
    "X_train_nopro, X_test_nopro = X_train.drop('protime', axis = 1), X_test.drop('protime', axis = 1)\n",
    "\n"
   ]
  },
  {
   "cell_type": "code",
   "execution_count": 30,
   "metadata": {
    "ExecuteTime": {
     "end_time": "2019-11-02T05:18:33.723879Z",
     "start_time": "2019-11-02T05:18:13.837765Z"
    },
    "scrolled": true
   },
   "outputs": [
    {
     "name": "stdout",
     "output_type": "stream",
     "text": [
      "===================================================================\n",
      "\t\t\t RandomForestClassifier \n",
      "===================================================================\n",
      "\n",
      "{'max_depth': 14, 'min_samples_leaf': 5, 'n_estimators': 50} \n",
      "\n",
      "\n",
      "\n",
      "            =========================================\n",
      "               CLASSIFICATION REPORT FOR TRAIN DATA\n",
      "            =========================================\n",
      "              precision    recall  f1-score   support\n",
      "\n",
      "           1       0.95      0.70      0.81        27\n",
      "           2       0.92      0.99      0.96        97\n",
      "\n",
      "    accuracy                           0.93       124\n",
      "   macro avg       0.94      0.85      0.88       124\n",
      "weighted avg       0.93      0.93      0.92       124\n",
      "\n",
      "\n",
      "            =========================================\n",
      "               CLASSIFICATION REPORT FOR TEST DATA\n",
      "            =========================================\n",
      "              precision    recall  f1-score   support\n",
      "\n",
      "           1       0.60      0.60      0.60         5\n",
      "           2       0.92      0.92      0.92        26\n",
      "\n",
      "    accuracy                           0.87        31\n",
      "   macro avg       0.76      0.76      0.76        31\n",
      "weighted avg       0.87      0.87      0.87        31\n",
      "\n",
      "===================================================================\n",
      "\t\t\t RandomForestClassifier \n",
      "===================================================================\n",
      "\n",
      "{'class_weight': 'balanced', 'max_depth': 18, 'min_samples_leaf': 5, 'n_estimators': 75} \n",
      "\n",
      "\n",
      "\n",
      "            =========================================\n",
      "               CLASSIFICATION REPORT FOR TRAIN DATA\n",
      "            =========================================\n",
      "              precision    recall  f1-score   support\n",
      "\n",
      "           1       0.71      0.89      0.79        27\n",
      "           2       0.97      0.90      0.93        97\n",
      "\n",
      "    accuracy                           0.90       124\n",
      "   macro avg       0.84      0.89      0.86       124\n",
      "weighted avg       0.91      0.90      0.90       124\n",
      "\n",
      "\n",
      "            =========================================\n",
      "               CLASSIFICATION REPORT FOR TEST DATA\n",
      "            =========================================\n",
      "              precision    recall  f1-score   support\n",
      "\n",
      "           1       0.60      0.60      0.60         5\n",
      "           2       0.92      0.92      0.92        26\n",
      "\n",
      "    accuracy                           0.87        31\n",
      "   macro avg       0.76      0.76      0.76        31\n",
      "weighted avg       0.87      0.87      0.87        31\n",
      "\n"
     ]
    }
   ],
   "source": [
    "estimators = [(RandomForestClassifier(), {'n_estimators' : [50, 75], 'max_depth' : [12, 14, 16, 18], \n",
    "                                          'min_samples_leaf' : [5, 10]}), \n",
    "              (RandomForestClassifier(), {'n_estimators' : [50, 75], 'max_depth' : [12, 14, 16, 18], \n",
    "                                          'min_samples_leaf' : [5, 10], 'class_weight' : ['balanced']})]\n",
    "\n",
    "for estimator, parameters in estimators :\n",
    "    \n",
    "    model_cv, model, pred_train, pred_test = model_building(X_train_nopro, y_train, X_test_nopro, \n",
    "                                                            estimator, parameters, 10)\n",
    "    \n",
    "    print('===================================================================\\n\\t\\t\\t',\n",
    "          type(estimator).__name__,\n",
    "          '\\n===================================================================\\n')\n",
    "    \n",
    "    print(model_cv.best_params_, '\\n\\n')\n",
    "    \n",
    "    model_evaluation(y_train, pred_train, y_test, pred_test)\n",
    "    "
   ]
  },
  {
   "cell_type": "markdown",
   "metadata": {},
   "source": [
    "We can also build a plot to check the learning curve for train and test set."
   ]
  },
  {
   "cell_type": "raw",
   "metadata": {},
   "source": [
    "!pip install mlxtend"
   ]
  },
  {
   "cell_type": "code",
   "execution_count": 31,
   "metadata": {
    "ExecuteTime": {
     "end_time": "2019-11-02T08:22:37.071826Z",
     "start_time": "2019-11-02T08:22:35.936641Z"
    }
   },
   "outputs": [
    {
     "data": {
      "text/plain": [
       "([0.75,\n",
       "  1.0,\n",
       "  0.972972972972973,\n",
       "  0.9387755102040817,\n",
       "  0.967741935483871,\n",
       "  0.9324324324324325,\n",
       "  0.9186046511627907,\n",
       "  0.9090909090909091,\n",
       "  0.8828828828828829,\n",
       "  0.9032258064516129],\n",
       " [0.7096774193548387,\n",
       "  0.8387096774193549,\n",
       "  0.7741935483870968,\n",
       "  0.8387096774193549,\n",
       "  0.8709677419354839,\n",
       "  0.8387096774193549,\n",
       "  0.8387096774193549,\n",
       "  0.8709677419354839,\n",
       "  0.8387096774193549,\n",
       "  0.8387096774193549])"
      ]
     },
     "execution_count": 31,
     "metadata": {},
     "output_type": "execute_result"
    },
    {
     "data": {
      "image/png": "[encoded data removed]",
      "text/plain": [
       "<Figure size 432x288 with 1 Axes>"
      ]
     },
     "metadata": {},
     "output_type": "display_data"
    }
   ],
   "source": [
    "from mlxtend.plotting import plot_learning_curves\n",
    "\n",
    "rf = RandomForestClassifier(n_estimators = 75, max_depth = 12, \n",
    "                            min_samples_leaf = 5, class_weight = 'balanced')\n",
    "\n",
    "plot_learning_curves(X_train_nopro, y_train, \n",
    "                     X_test_nopro, y_test, rf, scoring = 'accuracy')"
   ]
  },
  {
   "cell_type": "markdown",
   "metadata": {},
   "source": [
    "# Feature Engineering\n",
    "\n",
    "___\n",
    "\n",
    "We will try to add some features based on some google search for the various test data available. We will find the valid ranges and add categorical features for each.\n",
    "\n",
    "- `bilirubin` : For adults over 18, normal total bilirubin can be up to 1.2 milligrams per deciliter (mg/dl) of blood. For those under 18, the normal level will be will be 1 mg/dl. \n",
    "\n",
    "- `alk phosphate` : The ALP level in healthy adults should be 20–140 units per liter (U/L).\n",
    "\n",
    "- `sgot` : The normal range of an SGOT test is generally between 8 and 45 units per liter of serum. In general, men may naturally have higher amounts of AST in the blood. A score above 50 for men and 45 for women is high and may indicate damage.\n",
    "\n",
    "- `albumin` : The normal range is 3.5 to 5.5 g/dL or 35-55 g/liter. "
   ]
  },
  {
   "cell_type": "code",
   "execution_count": 32,
   "metadata": {
    "ExecuteTime": {
     "end_time": "2019-11-02T07:06:18.827417Z",
     "start_time": "2019-11-02T07:06:18.821955Z"
    }
   },
   "outputs": [],
   "source": [
    "X_train_new, X_test_new = X_train.copy(), X_test.copy()"
   ]
  },
  {
   "cell_type": "code",
   "execution_count": 33,
   "metadata": {
    "ExecuteTime": {
     "end_time": "2019-11-02T07:06:19.356255Z",
     "start_time": "2019-11-02T07:06:19.316041Z"
    }
   },
   "outputs": [
    {
     "data": {
      "text/html": [
       "<div>\n",
       "<style scoped>\n",
       "    .dataframe tbody tr th:only-of-type {\n",
       "        vertical-align: middle;\n",
       "    }\n",
       "\n",
       "    .dataframe tbody tr th {\n",
       "        vertical-align: top;\n",
       "    }\n",
       "\n",
       "    .dataframe thead th {\n",
       "        text-align: right;\n",
       "    }\n",
       "</style>\n",
       "<table border=\"1\" class=\"dataframe\">\n",
       "  <thead>\n",
       "    <tr style=\"text-align: right;\">\n",
       "      <th></th>\n",
       "      <th>age</th>\n",
       "      <th>bilirubin</th>\n",
       "      <th>alk phosphate</th>\n",
       "      <th>sgot</th>\n",
       "      <th>albumin</th>\n",
       "    </tr>\n",
       "  </thead>\n",
       "  <tbody>\n",
       "    <tr>\n",
       "      <th>count</th>\n",
       "      <td>124.000</td>\n",
       "      <td>124.000</td>\n",
       "      <td>124.000</td>\n",
       "      <td>124.000</td>\n",
       "      <td>124.000</td>\n",
       "    </tr>\n",
       "    <tr>\n",
       "      <th>mean</th>\n",
       "      <td>41.395</td>\n",
       "      <td>1.475</td>\n",
       "      <td>104.482</td>\n",
       "      <td>87.150</td>\n",
       "      <td>3.769</td>\n",
       "    </tr>\n",
       "    <tr>\n",
       "      <th>std</th>\n",
       "      <td>12.479</td>\n",
       "      <td>1.243</td>\n",
       "      <td>48.939</td>\n",
       "      <td>85.986</td>\n",
       "      <td>0.609</td>\n",
       "    </tr>\n",
       "    <tr>\n",
       "      <th>min</th>\n",
       "      <td>7.000</td>\n",
       "      <td>0.400</td>\n",
       "      <td>26.000</td>\n",
       "      <td>14.000</td>\n",
       "      <td>2.100</td>\n",
       "    </tr>\n",
       "    <tr>\n",
       "      <th>25%</th>\n",
       "      <td>33.000</td>\n",
       "      <td>0.800</td>\n",
       "      <td>75.750</td>\n",
       "      <td>33.750</td>\n",
       "      <td>3.400</td>\n",
       "    </tr>\n",
       "    <tr>\n",
       "      <th>50%</th>\n",
       "      <td>39.000</td>\n",
       "      <td>1.000</td>\n",
       "      <td>86.600</td>\n",
       "      <td>60.000</td>\n",
       "      <td>3.900</td>\n",
       "    </tr>\n",
       "    <tr>\n",
       "      <th>75%</th>\n",
       "      <td>50.000</td>\n",
       "      <td>1.525</td>\n",
       "      <td>128.650</td>\n",
       "      <td>111.000</td>\n",
       "      <td>4.200</td>\n",
       "    </tr>\n",
       "    <tr>\n",
       "      <th>max</th>\n",
       "      <td>78.000</td>\n",
       "      <td>8.000</td>\n",
       "      <td>295.000</td>\n",
       "      <td>648.000</td>\n",
       "      <td>5.300</td>\n",
       "    </tr>\n",
       "  </tbody>\n",
       "</table>\n",
       "</div>"
      ],
      "text/plain": [
       "           age  bilirubin  alk phosphate     sgot  albumin\n",
       "count  124.000    124.000        124.000  124.000  124.000\n",
       "mean    41.395      1.475        104.482   87.150    3.769\n",
       "std     12.479      1.243         48.939   85.986    0.609\n",
       "min      7.000      0.400         26.000   14.000    2.100\n",
       "25%     33.000      0.800         75.750   33.750    3.400\n",
       "50%     39.000      1.000         86.600   60.000    3.900\n",
       "75%     50.000      1.525        128.650  111.000    4.200\n",
       "max     78.000      8.000        295.000  648.000    5.300"
      ]
     },
     "execution_count": 33,
     "metadata": {},
     "output_type": "execute_result"
    }
   ],
   "source": [
    "X_train_new[['age', 'bilirubin', 'alk phosphate', 'sgot', 'albumin']].describe()"
   ]
  },
  {
   "cell_type": "code",
   "execution_count": 34,
   "metadata": {
    "ExecuteTime": {
     "end_time": "2019-11-02T07:06:19.810483Z",
     "start_time": "2019-11-02T07:06:19.799203Z"
    }
   },
   "outputs": [],
   "source": [
    "def feature_engg(df) :\n",
    "\n",
    "    df['bilirubin_normal'] = pd.cut(df.bilirubin, bins=[0, 1.2, float('Inf')], labels = [0, 1])\n",
    "    df['alkphosphate_normal'] = pd.cut(df['alk phosphate'], bins=[20, 140, float('Inf')], labels = [0, 1])\n",
    "    df['sgot_normal'] = pd.cut(df.sgot, bins=[8, 45, float('Inf')], labels = [0, 1])\n",
    "    df['albumin_normal'] = pd.cut(df.albumin, \n",
    "                                  bins=[0, 3.5, 5.5, float('Inf')], \n",
    "                                  labels = [2, 0, 1])\n",
    "    print(df.albumin_normal.value_counts())\n",
    "    df['albumin_normal'].replace({2 : 1}, inplace = True)\n",
    "    print(df.albumin_normal.value_counts())\n",
    "\n",
    "    df.drop(['bilirubin', 'alk phosphate', 'sgot', 'albumin'], axis = 1, inplace = True)\n",
    "    \n",
    "    return df"
   ]
  },
  {
   "cell_type": "code",
   "execution_count": 35,
   "metadata": {
    "ExecuteTime": {
     "end_time": "2019-11-02T07:06:21.322715Z",
     "start_time": "2019-11-02T07:06:21.268599Z"
    }
   },
   "outputs": [
    {
     "name": "stdout",
     "output_type": "stream",
     "text": [
      "0    85\n",
      "2    39\n",
      "1     0\n",
      "Name: albumin_normal, dtype: int64\n",
      "0    85\n",
      "1    39\n",
      "Name: albumin_normal, dtype: int64\n",
      "0    22\n",
      "2     8\n",
      "1     1\n",
      "Name: albumin_normal, dtype: int64\n",
      "0    22\n",
      "1     9\n",
      "Name: albumin_normal, dtype: int64\n"
     ]
    }
   ],
   "source": [
    "X_train_new = feature_engg(X_train_new)\n",
    "X_test_new = feature_engg(X_test_new)"
   ]
  },
  {
   "cell_type": "code",
   "execution_count": 36,
   "metadata": {
    "ExecuteTime": {
     "end_time": "2019-11-02T05:31:25.693718Z",
     "start_time": "2019-11-02T05:31:25.665375Z"
    }
   },
   "outputs": [
    {
     "data": {
      "text/html": [
       "<div>\n",
       "<style scoped>\n",
       "    .dataframe tbody tr th:only-of-type {\n",
       "        vertical-align: middle;\n",
       "    }\n",
       "\n",
       "    .dataframe tbody tr th {\n",
       "        vertical-align: top;\n",
       "    }\n",
       "\n",
       "    .dataframe thead th {\n",
       "        text-align: right;\n",
       "    }\n",
       "</style>\n",
       "<table border=\"1\" class=\"dataframe\">\n",
       "  <thead>\n",
       "    <tr style=\"text-align: right;\">\n",
       "      <th></th>\n",
       "      <th>age</th>\n",
       "      <th>sex</th>\n",
       "      <th>steroid</th>\n",
       "      <th>antivirals</th>\n",
       "      <th>fatigue</th>\n",
       "      <th>malaise</th>\n",
       "      <th>anorexia</th>\n",
       "      <th>liver big</th>\n",
       "      <th>liver firm</th>\n",
       "      <th>spleen palpable</th>\n",
       "      <th>spiders</th>\n",
       "      <th>ascites</th>\n",
       "      <th>varices</th>\n",
       "      <th>protime</th>\n",
       "      <th>histology</th>\n",
       "      <th>bilirubin_normal</th>\n",
       "      <th>alkphosphate_normal</th>\n",
       "      <th>sgot_normal</th>\n",
       "      <th>albumin_normal</th>\n",
       "    </tr>\n",
       "  </thead>\n",
       "  <tbody>\n",
       "    <tr>\n",
       "      <th>50</th>\n",
       "      <td>39.0</td>\n",
       "      <td>1.0</td>\n",
       "      <td>1.0</td>\n",
       "      <td>2.0</td>\n",
       "      <td>2.0</td>\n",
       "      <td>2.0</td>\n",
       "      <td>2.0</td>\n",
       "      <td>2.0</td>\n",
       "      <td>2.0</td>\n",
       "      <td>2.0</td>\n",
       "      <td>2.0</td>\n",
       "      <td>2.0</td>\n",
       "      <td>2.0</td>\n",
       "      <td>54.0</td>\n",
       "      <td>1.0</td>\n",
       "      <td>0</td>\n",
       "      <td>0</td>\n",
       "      <td>1</td>\n",
       "      <td>0</td>\n",
       "    </tr>\n",
       "    <tr>\n",
       "      <th>29</th>\n",
       "      <td>51.0</td>\n",
       "      <td>1.0</td>\n",
       "      <td>1.0</td>\n",
       "      <td>1.0</td>\n",
       "      <td>1.0</td>\n",
       "      <td>1.0</td>\n",
       "      <td>2.0</td>\n",
       "      <td>2.0</td>\n",
       "      <td>2.0</td>\n",
       "      <td>2.0</td>\n",
       "      <td>2.0</td>\n",
       "      <td>2.0</td>\n",
       "      <td>2.0</td>\n",
       "      <td>52.0</td>\n",
       "      <td>1.0</td>\n",
       "      <td>0</td>\n",
       "      <td>0</td>\n",
       "      <td>1</td>\n",
       "      <td>0</td>\n",
       "    </tr>\n",
       "    <tr>\n",
       "      <th>129</th>\n",
       "      <td>57.0</td>\n",
       "      <td>1.0</td>\n",
       "      <td>1.0</td>\n",
       "      <td>2.0</td>\n",
       "      <td>1.0</td>\n",
       "      <td>1.0</td>\n",
       "      <td>2.0</td>\n",
       "      <td>2.0</td>\n",
       "      <td>2.0</td>\n",
       "      <td>2.0</td>\n",
       "      <td>1.0</td>\n",
       "      <td>1.0</td>\n",
       "      <td>2.0</td>\n",
       "      <td>30.0</td>\n",
       "      <td>2.0</td>\n",
       "      <td>1</td>\n",
       "      <td>0</td>\n",
       "      <td>1</td>\n",
       "      <td>1</td>\n",
       "    </tr>\n",
       "    <tr>\n",
       "      <th>88</th>\n",
       "      <td>38.0</td>\n",
       "      <td>1.0</td>\n",
       "      <td>1.0</td>\n",
       "      <td>2.0</td>\n",
       "      <td>1.0</td>\n",
       "      <td>1.0</td>\n",
       "      <td>1.0</td>\n",
       "      <td>2.0</td>\n",
       "      <td>1.0</td>\n",
       "      <td>2.0</td>\n",
       "      <td>1.0</td>\n",
       "      <td>1.0</td>\n",
       "      <td>1.0</td>\n",
       "      <td>57.2</td>\n",
       "      <td>2.0</td>\n",
       "      <td>0</td>\n",
       "      <td>0</td>\n",
       "      <td>0</td>\n",
       "      <td>1</td>\n",
       "    </tr>\n",
       "    <tr>\n",
       "      <th>96</th>\n",
       "      <td>30.0</td>\n",
       "      <td>1.0</td>\n",
       "      <td>1.0</td>\n",
       "      <td>2.0</td>\n",
       "      <td>1.0</td>\n",
       "      <td>1.0</td>\n",
       "      <td>2.0</td>\n",
       "      <td>2.0</td>\n",
       "      <td>1.0</td>\n",
       "      <td>2.0</td>\n",
       "      <td>1.0</td>\n",
       "      <td>2.0</td>\n",
       "      <td>2.0</td>\n",
       "      <td>100.0</td>\n",
       "      <td>2.0</td>\n",
       "      <td>0</td>\n",
       "      <td>1</td>\n",
       "      <td>1</td>\n",
       "      <td>0</td>\n",
       "    </tr>\n",
       "  </tbody>\n",
       "</table>\n",
       "</div>"
      ],
      "text/plain": [
       "      age  sex  steroid  antivirals  fatigue  malaise  anorexia  liver big  \\\n",
       "50   39.0  1.0      1.0         2.0      2.0      2.0       2.0        2.0   \n",
       "29   51.0  1.0      1.0         1.0      1.0      1.0       2.0        2.0   \n",
       "129  57.0  1.0      1.0         2.0      1.0      1.0       2.0        2.0   \n",
       "88   38.0  1.0      1.0         2.0      1.0      1.0       1.0        2.0   \n",
       "96   30.0  1.0      1.0         2.0      1.0      1.0       2.0        2.0   \n",
       "\n",
       "     liver firm  spleen palpable  spiders  ascites  varices  protime  \\\n",
       "50          2.0              2.0      2.0      2.0      2.0     54.0   \n",
       "29          2.0              2.0      2.0      2.0      2.0     52.0   \n",
       "129         2.0              2.0      1.0      1.0      2.0     30.0   \n",
       "88          1.0              2.0      1.0      1.0      1.0     57.2   \n",
       "96          1.0              2.0      1.0      2.0      2.0    100.0   \n",
       "\n",
       "     histology bilirubin_normal alkphosphate_normal sgot_normal  \\\n",
       "50         1.0                0                   0           1   \n",
       "29         1.0                0                   0           1   \n",
       "129        2.0                1                   0           1   \n",
       "88         2.0                0                   0           0   \n",
       "96         2.0                0                   1           1   \n",
       "\n",
       "     albumin_normal  \n",
       "50                0  \n",
       "29                0  \n",
       "129               1  \n",
       "88                1  \n",
       "96                0  "
      ]
     },
     "execution_count": 36,
     "metadata": {},
     "output_type": "execute_result"
    }
   ],
   "source": [
    "X_train_new.head()"
   ]
  },
  {
   "cell_type": "code",
   "execution_count": 37,
   "metadata": {
    "ExecuteTime": {
     "end_time": "2019-11-02T05:31:44.594452Z",
     "start_time": "2019-11-02T05:31:26.684971Z"
    }
   },
   "outputs": [
    {
     "name": "stdout",
     "output_type": "stream",
     "text": [
      "===================================================================\n",
      "\t\t\t RandomForestClassifier \n",
      "===================================================================\n",
      "\n",
      "{'max_depth': 12, 'min_samples_leaf': 5, 'n_estimators': 50} \n",
      "\n",
      "\n",
      "\n",
      "            =========================================\n",
      "               CLASSIFICATION REPORT FOR TRAIN DATA\n",
      "            =========================================\n",
      "              precision    recall  f1-score   support\n",
      "\n",
      "           1       0.94      0.63      0.76        27\n",
      "           2       0.91      0.99      0.95        97\n",
      "\n",
      "    accuracy                           0.91       124\n",
      "   macro avg       0.93      0.81      0.85       124\n",
      "weighted avg       0.91      0.91      0.90       124\n",
      "\n",
      "\n",
      "            =========================================\n",
      "               CLASSIFICATION REPORT FOR TEST DATA\n",
      "            =========================================\n",
      "              precision    recall  f1-score   support\n",
      "\n",
      "           1       0.75      0.60      0.67         5\n",
      "           2       0.93      0.96      0.94        26\n",
      "\n",
      "    accuracy                           0.90        31\n",
      "   macro avg       0.84      0.78      0.81        31\n",
      "weighted avg       0.90      0.90      0.90        31\n",
      "\n",
      "===================================================================\n",
      "\t\t\t RandomForestClassifier \n",
      "===================================================================\n",
      "\n",
      "{'class_weight': 'balanced', 'max_depth': 14, 'min_samples_leaf': 5, 'n_estimators': 50} \n",
      "\n",
      "\n",
      "\n",
      "            =========================================\n",
      "               CLASSIFICATION REPORT FOR TRAIN DATA\n",
      "            =========================================\n",
      "              precision    recall  f1-score   support\n",
      "\n",
      "           1       0.71      0.89      0.79        27\n",
      "           2       0.97      0.90      0.93        97\n",
      "\n",
      "    accuracy                           0.90       124\n",
      "   macro avg       0.84      0.89      0.86       124\n",
      "weighted avg       0.91      0.90      0.90       124\n",
      "\n",
      "\n",
      "            =========================================\n",
      "               CLASSIFICATION REPORT FOR TEST DATA\n",
      "            =========================================\n",
      "              precision    recall  f1-score   support\n",
      "\n",
      "           1       0.60      0.60      0.60         5\n",
      "           2       0.92      0.92      0.92        26\n",
      "\n",
      "    accuracy                           0.87        31\n",
      "   macro avg       0.76      0.76      0.76        31\n",
      "weighted avg       0.87      0.87      0.87        31\n",
      "\n"
     ]
    }
   ],
   "source": [
    "estimators = [(RandomForestClassifier(), {'n_estimators' : [50, 75], 'max_depth' : [12, 14, 16, 18], \n",
    "                                          'min_samples_leaf' : [5, 10]}), \n",
    "              (RandomForestClassifier(), {'n_estimators' : [50, 75], 'max_depth' : [12, 14, 16, 18], \n",
    "                                          'min_samples_leaf' : [5, 10], 'class_weight' : ['balanced']})]\n",
    "\n",
    "for estimator, parameters in estimators :\n",
    "    \n",
    "    model_cv, model, pred_train, pred_test = model_building(X_train_new, y_train, X_test_new, \n",
    "                                                            estimator, parameters, 10)\n",
    "    \n",
    "    print('===================================================================\\n\\t\\t\\t',\n",
    "          type(estimator).__name__,\n",
    "          '\\n===================================================================\\n')\n",
    "    \n",
    "    print(model_cv.best_params_, '\\n\\n')\n",
    "    \n",
    "    model_evaluation(y_train, pred_train, y_test, pred_test)\n",
    "    "
   ]
  },
  {
   "cell_type": "markdown",
   "metadata": {},
   "source": [
    "___"
   ]
  },
  {
   "cell_type": "markdown",
   "metadata": {
    "ExecuteTime": {
     "end_time": "2019-11-02T05:51:15.642138Z",
     "start_time": "2019-11-02T05:51:15.635237Z"
    }
   },
   "source": [
    "#### Further Reading\n",
    "\n",
    "- Adaboost: http://www.inf.fu-berlin.de/inst/ag-ki/adaboost4.pdf\n",
    "- Boosting: https://medium.com/greyatom/a-quick-guide-to-boosting-in-ml-acf7c1585cb5\n",
    "- XGboost: https://xgboost.readthedocs.io/en/latest/parameter.html"
   ]
  },
  {
   "cell_type": "code",
   "execution_count": null,
   "metadata": {},
   "outputs": [],
   "source": []
  }
 ],
 "metadata": {
  "kernelspec": {
   "display_name": "Python 3",
   "language": "python",
   "name": "python3"
  },
  "language_info": {
   "codemirror_mode": {
    "name": "ipython",
    "version": 3
   },
   "file_extension": ".py",
   "mimetype": "text/x-python",
   "name": "python",
   "nbconvert_exporter": "python",
   "pygments_lexer": "ipython3",
   "version": "3.7.6"
  }
 },
 "nbformat": 4,
 "nbformat_minor": 4
}
